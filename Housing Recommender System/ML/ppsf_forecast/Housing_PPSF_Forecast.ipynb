{
 "cells": [
  {
   "cell_type": "code",
   "execution_count": 1,
   "id": "baa152cb",
   "metadata": {},
   "outputs": [],
   "source": [
    "import pandas as pd\n",
    "from pycaret.regression import *\n",
    "from pycaret.regression import load_model, predict_model\n",
    "import datetime\n",
    "import os"
   ]
  },
  {
   "cell_type": "code",
   "execution_count": 2,
   "id": "14869055",
   "metadata": {},
   "outputs": [],
   "source": [
    "# create folder if it does not exist\n",
    "if not os.path.isdir('trained_models'):\n",
    "    os.mkdir('trained_models')"
   ]
  },
  {
   "cell_type": "code",
   "execution_count": 3,
   "id": "340aab29",
   "metadata": {},
   "outputs": [],
   "source": [
    "# Load housing data\n",
    "df_data = pd.read_csv(\"HousingRecommenderFinalDataset.csv\")\n",
    "df_data['date'] = pd.to_datetime(df_data['period_end'], format='%Y-%m-%d')"
   ]
  },
  {
   "cell_type": "code",
   "execution_count": 4,
   "id": "889522be",
   "metadata": {},
   "outputs": [],
   "source": [
    "# Filter to retain All Residential data\n",
    "df_res = df_data[df_data['property_type'] == 'All Residential']\n",
    "df_res.reset_index(drop=True, inplace=True)"
   ]
  },
  {
   "cell_type": "code",
   "execution_count": 5,
   "id": "aa90f71c",
   "metadata": {},
   "outputs": [],
   "source": [
    "# sub-setting columns\n",
    "columns = ['date', 'county', 'state_code', 'median_ppsf']\n",
    "df_res = pd.DataFrame(df_res, columns=columns)"
   ]
  },
  {
   "cell_type": "code",
   "execution_count": 6,
   "id": "9c625568",
   "metadata": {},
   "outputs": [],
   "source": [
    "# split county and state\n",
    "df_res['county_state'] = df_res[['county', 'state_code']].apply(lambda x: '-'.join(x), axis=1)\n",
    "df_res.drop(['county', 'state_code'], axis=1, inplace=True)"
   ]
  },
  {
   "cell_type": "code",
   "execution_count": 7,
   "id": "993b6a46",
   "metadata": {},
   "outputs": [],
   "source": [
    "# extract features from date\n",
    "df_res['month'] = [i.month for i in df_res['date']]\n",
    "df_res['year'] = [i.year for i in df_res['date']]"
   ]
  },
  {
   "cell_type": "code",
   "execution_count": 9,
   "id": "78fa8221",
   "metadata": {},
   "outputs": [],
   "source": [
    "# get unique counties\n",
    "counties = df_res['county_state'].unique()\n",
    "    \n",
    "all_results = []\n",
    "final_model = {}"
   ]
  },
  {
   "cell_type": "code",
   "execution_count": 10,
   "id": "ac3fffe2",
   "metadata": {},
   "outputs": [
    {
     "data": {
      "text/plain": [
       "1860"
      ]
     },
     "execution_count": 10,
     "metadata": {},
     "output_type": "execute_result"
    }
   ],
   "source": [
    "len(counties)"
   ]
  },
  {
   "cell_type": "code",
   "execution_count": 70,
   "id": "c41a51f6",
   "metadata": {
    "scrolled": true
   },
   "outputs": [],
   "source": [
    "for county in counties:\n",
    "    \n",
    "    df_county = df_res[df_res['county_state'] == county]\n",
    "    \n",
    "    # initialize setup\n",
    "    s = setup(df_county, target = 'median_ppsf', train_size = 0.80,\n",
    "              data_split_shuffle = False, fold_strategy = 'timeseries', fold = 3,\n",
    "              ignore_features = ['date', 'county_state'],\n",
    "              numeric_features = ['month', 'year'],\n",
    "              categorical_features = ['month'],\n",
    "              silent = True, verbose = False, session_id = 123)\n",
    "    \n",
    "    # get the best model using MAE\n",
    "    best_model = compare_models(sort = 'MAE', verbose=False)\n",
    "    \n",
    "    # append best model to all_results\n",
    "    p = pull().iloc[0:1]\n",
    "    p['county_state'] = str(county)\n",
    "    all_results.append(p)\n",
    "    \n",
    "    # fit the best model on the entire county data\n",
    "    f = finalize_model(best_model)\n",
    "    \n",
    "    # add to final model\n",
    "    final_model[county] = f\n",
    "    \n",
    "     # save model as pickle file \n",
    "    save_model(f, model_name='trained_models/' + str(county), verbose=False)"
   ]
  },
  {
   "cell_type": "code",
   "execution_count": 107,
   "id": "a6613b35",
   "metadata": {},
   "outputs": [],
   "source": [
    "df_best_model = pd.concat(all_results,axis=0)"
   ]
  },
  {
   "cell_type": "code",
   "execution_count": 108,
   "id": "e5222f99",
   "metadata": {},
   "outputs": [
    {
     "data": {
      "text/html": [
       "<div>\n",
       "<style scoped>\n",
       "    .dataframe tbody tr th:only-of-type {\n",
       "        vertical-align: middle;\n",
       "    }\n",
       "\n",
       "    .dataframe tbody tr th {\n",
       "        vertical-align: top;\n",
       "    }\n",
       "\n",
       "    .dataframe thead th {\n",
       "        text-align: right;\n",
       "    }\n",
       "</style>\n",
       "<table border=\"1\" class=\"dataframe\">\n",
       "  <thead>\n",
       "    <tr style=\"text-align: right;\">\n",
       "      <th></th>\n",
       "      <th>Model</th>\n",
       "      <th>MAE</th>\n",
       "      <th>MSE</th>\n",
       "      <th>RMSE</th>\n",
       "      <th>R2</th>\n",
       "      <th>RMSLE</th>\n",
       "      <th>MAPE</th>\n",
       "      <th>TT (Sec)</th>\n",
       "      <th>county_state</th>\n",
       "    </tr>\n",
       "  </thead>\n",
       "  <tbody>\n",
       "    <tr>\n",
       "      <th>rf</th>\n",
       "      <td>Random Forest Regressor</td>\n",
       "      <td>3.6409</td>\n",
       "      <td>20.7104</td>\n",
       "      <td>4.5442</td>\n",
       "      <td>0.8960</td>\n",
       "      <td>0.0581</td>\n",
       "      <td>0.0469</td>\n",
       "      <td>0.2267</td>\n",
       "      <td>Morgan County-AL</td>\n",
       "    </tr>\n",
       "    <tr>\n",
       "      <th>gbr</th>\n",
       "      <td>Gradient Boosting Regressor</td>\n",
       "      <td>1.8069</td>\n",
       "      <td>5.9234</td>\n",
       "      <td>2.3252</td>\n",
       "      <td>0.9672</td>\n",
       "      <td>0.0246</td>\n",
       "      <td>0.0196</td>\n",
       "      <td>0.0400</td>\n",
       "      <td>Tulsa County-OK</td>\n",
       "    </tr>\n",
       "    <tr>\n",
       "      <th>lr</th>\n",
       "      <td>Linear Regression</td>\n",
       "      <td>18.9813</td>\n",
       "      <td>672.7615</td>\n",
       "      <td>25.2427</td>\n",
       "      <td>0.7624</td>\n",
       "      <td>0.0942</td>\n",
       "      <td>0.0747</td>\n",
       "      <td>0.0067</td>\n",
       "      <td>Hood River County-OR</td>\n",
       "    </tr>\n",
       "    <tr>\n",
       "      <th>omp</th>\n",
       "      <td>Orthogonal Matching Pursuit</td>\n",
       "      <td>27.3163</td>\n",
       "      <td>1564.9580</td>\n",
       "      <td>37.4556</td>\n",
       "      <td>0.0231</td>\n",
       "      <td>0.4271</td>\n",
       "      <td>0.4008</td>\n",
       "      <td>0.0167</td>\n",
       "      <td>Lamar County-MS</td>\n",
       "    </tr>\n",
       "    <tr>\n",
       "      <th>et</th>\n",
       "      <td>Extra Trees Regressor</td>\n",
       "      <td>3.3706</td>\n",
       "      <td>73.4086</td>\n",
       "      <td>6.1989</td>\n",
       "      <td>0.9254</td>\n",
       "      <td>0.0497</td>\n",
       "      <td>0.0296</td>\n",
       "      <td>0.1667</td>\n",
       "      <td>Pasco County-FL</td>\n",
       "    </tr>\n",
       "    <tr>\n",
       "      <th>...</th>\n",
       "      <td>...</td>\n",
       "      <td>...</td>\n",
       "      <td>...</td>\n",
       "      <td>...</td>\n",
       "      <td>...</td>\n",
       "      <td>...</td>\n",
       "      <td>...</td>\n",
       "      <td>...</td>\n",
       "      <td>...</td>\n",
       "    </tr>\n",
       "    <tr>\n",
       "      <th>ada</th>\n",
       "      <td>AdaBoost Regressor</td>\n",
       "      <td>41.0765</td>\n",
       "      <td>2380.7367</td>\n",
       "      <td>41.0765</td>\n",
       "      <td>NaN</td>\n",
       "      <td>0.3824</td>\n",
       "      <td>0.2998</td>\n",
       "      <td>0.0633</td>\n",
       "      <td>Unicoi County-TN</td>\n",
       "    </tr>\n",
       "    <tr>\n",
       "      <th>et</th>\n",
       "      <td>Extra Trees Regressor</td>\n",
       "      <td>19.3259</td>\n",
       "      <td>600.3481</td>\n",
       "      <td>19.3259</td>\n",
       "      <td>NaN</td>\n",
       "      <td>0.4292</td>\n",
       "      <td>0.5966</td>\n",
       "      <td>0.4633</td>\n",
       "      <td>Chester County-TN</td>\n",
       "    </tr>\n",
       "    <tr>\n",
       "      <th>et</th>\n",
       "      <td>Extra Trees Regressor</td>\n",
       "      <td>18.0819</td>\n",
       "      <td>511.2798</td>\n",
       "      <td>18.0819</td>\n",
       "      <td>NaN</td>\n",
       "      <td>0.4397</td>\n",
       "      <td>0.3542</td>\n",
       "      <td>0.4133</td>\n",
       "      <td>Lanier County-GA</td>\n",
       "    </tr>\n",
       "    <tr>\n",
       "      <th>ada</th>\n",
       "      <td>AdaBoost Regressor</td>\n",
       "      <td>4.7259</td>\n",
       "      <td>43.4967</td>\n",
       "      <td>4.7259</td>\n",
       "      <td>NaN</td>\n",
       "      <td>0.0585</td>\n",
       "      <td>0.0563</td>\n",
       "      <td>0.2300</td>\n",
       "      <td>Wayne County-MO</td>\n",
       "    </tr>\n",
       "    <tr>\n",
       "      <th>gbr</th>\n",
       "      <td>Gradient Boosting Regressor</td>\n",
       "      <td>18.0576</td>\n",
       "      <td>838.7457</td>\n",
       "      <td>18.0576</td>\n",
       "      <td>NaN</td>\n",
       "      <td>0.2236</td>\n",
       "      <td>0.3102</td>\n",
       "      <td>0.0633</td>\n",
       "      <td>Monroe County-OH</td>\n",
       "    </tr>\n",
       "  </tbody>\n",
       "</table>\n",
       "<p>1820 rows × 9 columns</p>\n",
       "</div>"
      ],
      "text/plain": [
       "                           Model      MAE        MSE     RMSE      R2   RMSLE  \\\n",
       "rf       Random Forest Regressor   3.6409    20.7104   4.5442  0.8960  0.0581   \n",
       "gbr  Gradient Boosting Regressor   1.8069     5.9234   2.3252  0.9672  0.0246   \n",
       "lr             Linear Regression  18.9813   672.7615  25.2427  0.7624  0.0942   \n",
       "omp  Orthogonal Matching Pursuit  27.3163  1564.9580  37.4556  0.0231  0.4271   \n",
       "et         Extra Trees Regressor   3.3706    73.4086   6.1989  0.9254  0.0497   \n",
       "..                           ...      ...        ...      ...     ...     ...   \n",
       "ada           AdaBoost Regressor  41.0765  2380.7367  41.0765     NaN  0.3824   \n",
       "et         Extra Trees Regressor  19.3259   600.3481  19.3259     NaN  0.4292   \n",
       "et         Extra Trees Regressor  18.0819   511.2798  18.0819     NaN  0.4397   \n",
       "ada           AdaBoost Regressor   4.7259    43.4967   4.7259     NaN  0.0585   \n",
       "gbr  Gradient Boosting Regressor  18.0576   838.7457  18.0576     NaN  0.2236   \n",
       "\n",
       "       MAPE  TT (Sec)          county_state  \n",
       "rf   0.0469    0.2267      Morgan County-AL  \n",
       "gbr  0.0196    0.0400       Tulsa County-OK  \n",
       "lr   0.0747    0.0067  Hood River County-OR  \n",
       "omp  0.4008    0.0167       Lamar County-MS  \n",
       "et   0.0296    0.1667       Pasco County-FL  \n",
       "..      ...       ...                   ...  \n",
       "ada  0.2998    0.0633      Unicoi County-TN  \n",
       "et   0.5966    0.4633     Chester County-TN  \n",
       "et   0.3542    0.4133      Lanier County-GA  \n",
       "ada  0.0563    0.2300       Wayne County-MO  \n",
       "gbr  0.3102    0.0633      Monroe County-OH  \n",
       "\n",
       "[1820 rows x 9 columns]"
      ]
     },
     "execution_count": 108,
     "metadata": {},
     "output_type": "execute_result"
    }
   ],
   "source": [
    "df_best_model"
   ]
  },
  {
   "cell_type": "code",
   "execution_count": 110,
   "id": "403e95f2",
   "metadata": {},
   "outputs": [],
   "source": [
    "df_best_model.to_csv(\"best_model.csv\", index = False)"
   ]
  },
  {
   "cell_type": "code",
   "execution_count": 88,
   "id": "6d2b6d8e",
   "metadata": {},
   "outputs": [],
   "source": [
    "future_dates = pd.date_range(start='2022-01-01', end = '2024-01-01', freq = 'M')\n",
    "len(future_dates)"
   ]
  },
  {
   "cell_type": "code",
   "execution_count": 90,
   "id": "17ff607e",
   "metadata": {},
   "outputs": [],
   "source": [
    "df_future = pd.DataFrame()\n",
    "df_future['date'] = future_dates\n",
    "df_future['month'] = [i.month for i in df_future['date']]\n",
    "df_future['year'] = [i.year for i in df_future['date']]\n"
   ]
  },
  {
   "cell_type": "code",
   "execution_count": 92,
   "id": "7c45656f",
   "metadata": {},
   "outputs": [],
   "source": [
    "# initialize predictions list\n",
    "df_predict = []\n",
    "\n",
    "# loop through counties, load model and call predict\n",
    "for county in counties:\n",
    "    if os.path.isfile('trained_models/' + str(county) + '.pkl'):\n",
    "        l = load_model('trained_models/' + str(county), verbose=False)\n",
    "        p = predict_model(l, data=df_future)\n",
    "        p['time_series'] = county\n",
    "        df_predict.append(p)"
   ]
  },
  {
   "cell_type": "code",
   "execution_count": 96,
   "id": "919aec76",
   "metadata": {},
   "outputs": [],
   "source": [
    "df_forecast = pd.concat(df_predict, axis=0)"
   ]
  },
  {
   "cell_type": "code",
   "execution_count": 97,
   "id": "0fff2660",
   "metadata": {},
   "outputs": [
    {
     "data": {
      "text/plain": [
       "(43608, 5)"
      ]
     },
     "execution_count": 97,
     "metadata": {},
     "output_type": "execute_result"
    }
   ],
   "source": [
    "df_forecast.shape"
   ]
  },
  {
   "cell_type": "code",
   "execution_count": 98,
   "id": "409d0753",
   "metadata": {},
   "outputs": [
    {
     "data": {
      "text/html": [
       "<div>\n",
       "<style scoped>\n",
       "    .dataframe tbody tr th:only-of-type {\n",
       "        vertical-align: middle;\n",
       "    }\n",
       "\n",
       "    .dataframe tbody tr th {\n",
       "        vertical-align: top;\n",
       "    }\n",
       "\n",
       "    .dataframe thead th {\n",
       "        text-align: right;\n",
       "    }\n",
       "</style>\n",
       "<table border=\"1\" class=\"dataframe\">\n",
       "  <thead>\n",
       "    <tr style=\"text-align: right;\">\n",
       "      <th></th>\n",
       "      <th>date</th>\n",
       "      <th>month</th>\n",
       "      <th>year</th>\n",
       "      <th>Label</th>\n",
       "      <th>time_series</th>\n",
       "    </tr>\n",
       "  </thead>\n",
       "  <tbody>\n",
       "    <tr>\n",
       "      <th>0</th>\n",
       "      <td>2022-01-31</td>\n",
       "      <td>1</td>\n",
       "      <td>2022</td>\n",
       "      <td>100.563884</td>\n",
       "      <td>Morgan County-AL</td>\n",
       "    </tr>\n",
       "    <tr>\n",
       "      <th>1</th>\n",
       "      <td>2022-02-28</td>\n",
       "      <td>2</td>\n",
       "      <td>2022</td>\n",
       "      <td>98.752071</td>\n",
       "      <td>Morgan County-AL</td>\n",
       "    </tr>\n",
       "    <tr>\n",
       "      <th>2</th>\n",
       "      <td>2022-03-31</td>\n",
       "      <td>3</td>\n",
       "      <td>2022</td>\n",
       "      <td>99.923069</td>\n",
       "      <td>Morgan County-AL</td>\n",
       "    </tr>\n",
       "    <tr>\n",
       "      <th>3</th>\n",
       "      <td>2022-04-30</td>\n",
       "      <td>4</td>\n",
       "      <td>2022</td>\n",
       "      <td>104.868045</td>\n",
       "      <td>Morgan County-AL</td>\n",
       "    </tr>\n",
       "    <tr>\n",
       "      <th>4</th>\n",
       "      <td>2022-05-31</td>\n",
       "      <td>5</td>\n",
       "      <td>2022</td>\n",
       "      <td>108.512793</td>\n",
       "      <td>Morgan County-AL</td>\n",
       "    </tr>\n",
       "  </tbody>\n",
       "</table>\n",
       "</div>"
      ],
      "text/plain": [
       "        date  month  year       Label       time_series\n",
       "0 2022-01-31      1  2022  100.563884  Morgan County-AL\n",
       "1 2022-02-28      2  2022   98.752071  Morgan County-AL\n",
       "2 2022-03-31      3  2022   99.923069  Morgan County-AL\n",
       "3 2022-04-30      4  2022  104.868045  Morgan County-AL\n",
       "4 2022-05-31      5  2022  108.512793  Morgan County-AL"
      ]
     },
     "execution_count": 98,
     "metadata": {},
     "output_type": "execute_result"
    }
   ],
   "source": [
    "df_forecast.head()"
   ]
  },
  {
   "cell_type": "code",
   "execution_count": 99,
   "id": "095316fb",
   "metadata": {},
   "outputs": [
    {
     "data": {
      "text/html": [
       "<div>\n",
       "<style scoped>\n",
       "    .dataframe tbody tr th:only-of-type {\n",
       "        vertical-align: middle;\n",
       "    }\n",
       "\n",
       "    .dataframe tbody tr th {\n",
       "        vertical-align: top;\n",
       "    }\n",
       "\n",
       "    .dataframe thead th {\n",
       "        text-align: right;\n",
       "    }\n",
       "</style>\n",
       "<table border=\"1\" class=\"dataframe\">\n",
       "  <thead>\n",
       "    <tr style=\"text-align: right;\">\n",
       "      <th></th>\n",
       "      <th>date</th>\n",
       "      <th>month</th>\n",
       "      <th>year</th>\n",
       "      <th>median_ppsf</th>\n",
       "      <th>county</th>\n",
       "      <th>state</th>\n",
       "    </tr>\n",
       "  </thead>\n",
       "  <tbody>\n",
       "    <tr>\n",
       "      <th>0</th>\n",
       "      <td>2022-01-31</td>\n",
       "      <td>1</td>\n",
       "      <td>2022</td>\n",
       "      <td>100.563884</td>\n",
       "      <td>Morgan County</td>\n",
       "      <td>AL</td>\n",
       "    </tr>\n",
       "    <tr>\n",
       "      <th>1</th>\n",
       "      <td>2022-02-28</td>\n",
       "      <td>2</td>\n",
       "      <td>2022</td>\n",
       "      <td>98.752071</td>\n",
       "      <td>Morgan County</td>\n",
       "      <td>AL</td>\n",
       "    </tr>\n",
       "    <tr>\n",
       "      <th>2</th>\n",
       "      <td>2022-03-31</td>\n",
       "      <td>3</td>\n",
       "      <td>2022</td>\n",
       "      <td>99.923069</td>\n",
       "      <td>Morgan County</td>\n",
       "      <td>AL</td>\n",
       "    </tr>\n",
       "    <tr>\n",
       "      <th>3</th>\n",
       "      <td>2022-04-30</td>\n",
       "      <td>4</td>\n",
       "      <td>2022</td>\n",
       "      <td>104.868045</td>\n",
       "      <td>Morgan County</td>\n",
       "      <td>AL</td>\n",
       "    </tr>\n",
       "    <tr>\n",
       "      <th>4</th>\n",
       "      <td>2022-05-31</td>\n",
       "      <td>5</td>\n",
       "      <td>2022</td>\n",
       "      <td>108.512793</td>\n",
       "      <td>Morgan County</td>\n",
       "      <td>AL</td>\n",
       "    </tr>\n",
       "  </tbody>\n",
       "</table>\n",
       "</div>"
      ],
      "text/plain": [
       "        date  month  year  median_ppsf         county state\n",
       "0 2022-01-31      1  2022   100.563884  Morgan County    AL\n",
       "1 2022-02-28      2  2022    98.752071  Morgan County    AL\n",
       "2 2022-03-31      3  2022    99.923069  Morgan County    AL\n",
       "3 2022-04-30      4  2022   104.868045  Morgan County    AL\n",
       "4 2022-05-31      5  2022   108.512793  Morgan County    AL"
      ]
     },
     "execution_count": 99,
     "metadata": {},
     "output_type": "execute_result"
    }
   ],
   "source": [
    "df_forecast[['county', 'state']] = df_forecast['time_series'].str.split('-', 1, expand=True)\n",
    "df_forecast = df_forecast.drop(columns=['time_series'])\n",
    "df_forecast = df_forecast.rename(columns={\"Label\": \"median_ppsf\"})\n",
    "\n",
    "df_forecast.head()"
   ]
  },
  {
   "cell_type": "code",
   "execution_count": 105,
   "id": "a525456a",
   "metadata": {},
   "outputs": [],
   "source": [
    "df_forecast.to_csv(\"ppsf_forecast.csv\", index = False)"
   ]
  }
 ],
 "metadata": {
  "kernelspec": {
   "display_name": "Python 3 (ipykernel)",
   "language": "python",
   "name": "python3"
  },
  "language_info": {
   "codemirror_mode": {
    "name": "ipython",
    "version": 3
   },
   "file_extension": ".py",
   "mimetype": "text/x-python",
   "name": "python",
   "nbconvert_exporter": "python",
   "pygments_lexer": "ipython3",
   "version": "3.8.12"
  }
 },
 "nbformat": 4,
 "nbformat_minor": 5
}
