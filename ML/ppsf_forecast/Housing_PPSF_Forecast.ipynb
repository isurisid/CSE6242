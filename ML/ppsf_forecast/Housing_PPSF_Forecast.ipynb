{
 "cells": [
  {
   "cell_type": "code",
   "execution_count": 1,
   "id": "baa152cb",
   "metadata": {},
   "outputs": [],
   "source": [
    "import pandas as pd\n",
    "from pycaret.regression import *\n",
    "from pycaret.regression import load_model, predict_model\n",
    "import datetime\n",
    "import os"
   ]
  },
  {
   "cell_type": "code",
   "execution_count": 2,
   "id": "14869055",
   "metadata": {},
   "outputs": [],
   "source": [
    "if not os.path.isdir('trained_models'):\n",
    "    os.mkdir('trained_models')"
   ]
  },
  {
   "cell_type": "code",
   "execution_count": 3,
   "id": "340aab29",
   "metadata": {},
   "outputs": [],
   "source": [
    "# Load Redfin housing data\n",
    "df_data = pd.read_csv(\"HousingRecommenderFinalDataset.csv\")\n",
    "df_data['date'] = pd.to_datetime(df_data['period_end'], format='%Y-%m-%d')"
   ]
  },
  {
   "cell_type": "code",
   "execution_count": 4,
   "id": "889522be",
   "metadata": {},
   "outputs": [],
   "source": [
    "# Filter to retain All Residential data\n",
    "df_res = df_data[df_data['property_type'] == 'All Residential']\n",
    "df_res.reset_index(drop=True, inplace=True)"
   ]
  },
  {
   "cell_type": "code",
   "execution_count": 5,
   "id": "aa90f71c",
   "metadata": {},
   "outputs": [],
   "source": [
    "columns = ['date', 'county', 'state_code', 'median_ppsf']\n",
    "df_res = pd.DataFrame(df_res, columns=columns)"
   ]
  },
  {
   "cell_type": "code",
   "execution_count": 6,
   "id": "9c625568",
   "metadata": {},
   "outputs": [],
   "source": [
    "df_res['county_state'] = df_res[['county', 'state_code']].apply(lambda x: '-'.join(x), axis=1)\n",
    "df_res.drop(['county', 'state_code'], axis=1, inplace=True)"
   ]
  },
  {
   "cell_type": "code",
   "execution_count": 7,
   "id": "993b6a46",
   "metadata": {},
   "outputs": [],
   "source": [
    "# extract features from date\n",
    "df_res['month'] = [i.month for i in df_res['date']]\n",
    "df_res['year'] = [i.year for i in df_res['date']]"
   ]
  },
  {
   "cell_type": "code",
   "execution_count": 8,
   "id": "f918ade0",
   "metadata": {},
   "outputs": [
    {
     "name": "stdout",
     "output_type": "stream",
     "text": [
      "current time:- 2022-04-06 09:11:41.626220\n"
     ]
    }
   ],
   "source": [
    "ct = datetime.datetime.now()\n",
    "print(\"current time:-\", ct)"
   ]
  },
  {
   "cell_type": "code",
   "execution_count": 9,
   "id": "78fa8221",
   "metadata": {},
   "outputs": [],
   "source": [
    "counties = df_res['county_state'].unique()\n",
    "    \n",
    "all_results = []\n",
    "final_model = {}"
   ]
  },
  {
   "cell_type": "code",
   "execution_count": 10,
   "id": "e332cd03",
   "metadata": {},
   "outputs": [
    {
     "data": {
      "text/plain": [
       "1860"
      ]
     },
     "execution_count": 10,
     "metadata": {},
     "output_type": "execute_result"
    }
   ],
   "source": [
    "len(counties)"
   ]
  },
  {
   "cell_type": "code",
   "execution_count": 70,
   "id": "c41a51f6",
   "metadata": {
    "scrolled": true
   },
   "outputs": [],
   "source": [
    "for county in counties:\n",
    "    \n",
    "    df_county = df_res[df_res['county_state'] == county]\n",
    "    \n",
    "    # initialize setup from pycaret.regression\n",
    "    s = setup(df_county, target = 'median_ppsf', train_size = 0.80,\n",
    "              data_split_shuffle = False, fold_strategy = 'timeseries', fold = 3,\n",
    "              ignore_features = ['date', 'county_state'],\n",
    "              numeric_features = ['month', 'year'],\n",
    "              categorical_features = ['month'],\n",
    "              silent = True, verbose = False, session_id = 123)\n",
    "    \n",
    "    # compare all models and select best one based on MAE\n",
    "    best_model = compare_models(sort = 'MAE', verbose=False)\n",
    "    \n",
    "    # capture the compare result grid and store best model in list\n",
    "    p = pull().iloc[0:1]\n",
    "    p['county_state'] = str(county)\n",
    "    all_results.append(p)\n",
    "    \n",
    "    # finalize model i.e. fit on entire data including test set\n",
    "    f = finalize_model(best_model)\n",
    "    \n",
    "    # attach final model to a dictionary\n",
    "    final_model[county] = f\n",
    "    \n",
    "     # save transformation pipeline and model as pickle file \n",
    "    save_model(f, model_name='trained_models/' + str(county), verbose=False)"
   ]
  },
  {
   "cell_type": "code",
   "execution_count": 27,
   "id": "523914b6",
   "metadata": {},
   "outputs": [
    {
     "data": {
      "text/plain": [
       "'Teller County-CO'"
      ]
     },
     "execution_count": 27,
     "metadata": {},
     "output_type": "execute_result"
    }
   ],
   "source": [
    "county"
   ]
  },
  {
   "cell_type": "code",
   "execution_count": 71,
   "id": "a12040c4",
   "metadata": {},
   "outputs": [
    {
     "data": {
      "text/plain": [
       "1856"
      ]
     },
     "execution_count": 71,
     "metadata": {},
     "output_type": "execute_result"
    }
   ],
   "source": [
    "len(all_results)"
   ]
  },
  {
   "cell_type": "code",
   "execution_count": 10,
   "id": "72eba9dc",
   "metadata": {},
   "outputs": [
    {
     "name": "stdout",
     "output_type": "stream",
     "text": [
      "current time:- 2022-04-05 22:17:21.340296\n"
     ]
    }
   ],
   "source": [
    "ct = datetime.datetime.now()\n",
    "print(\"current time:-\", ct)"
   ]
  },
  {
   "cell_type": "code",
   "execution_count": 72,
   "id": "e16b3235",
   "metadata": {},
   "outputs": [
    {
     "name": "stdout",
     "output_type": "stream",
     "text": [
      "1820\n"
     ]
    }
   ],
   "source": [
    "concat_results = pd.concat(all_results,axis=0)\n",
    "print(concat_results.shape[0])"
   ]
  },
  {
   "cell_type": "code",
   "execution_count": 75,
   "id": "0f309fa4",
   "metadata": {},
   "outputs": [
    {
     "data": {
      "text/html": [
       "<div>\n",
       "<style scoped>\n",
       "    .dataframe tbody tr th:only-of-type {\n",
       "        vertical-align: middle;\n",
       "    }\n",
       "\n",
       "    .dataframe tbody tr th {\n",
       "        vertical-align: top;\n",
       "    }\n",
       "\n",
       "    .dataframe thead th {\n",
       "        text-align: right;\n",
       "    }\n",
       "</style>\n",
       "<table border=\"1\" class=\"dataframe\">\n",
       "  <thead>\n",
       "    <tr style=\"text-align: right;\">\n",
       "      <th></th>\n",
       "      <th>Model</th>\n",
       "      <th>MAE</th>\n",
       "      <th>MSE</th>\n",
       "      <th>RMSE</th>\n",
       "      <th>R2</th>\n",
       "      <th>RMSLE</th>\n",
       "      <th>MAPE</th>\n",
       "      <th>TT (Sec)</th>\n",
       "      <th>county_state</th>\n",
       "    </tr>\n",
       "  </thead>\n",
       "  <tbody>\n",
       "    <tr>\n",
       "      <th>rf</th>\n",
       "      <td>Random Forest Regressor</td>\n",
       "      <td>3.6409</td>\n",
       "      <td>20.7104</td>\n",
       "      <td>4.5442</td>\n",
       "      <td>0.8960</td>\n",
       "      <td>0.0581</td>\n",
       "      <td>0.0469</td>\n",
       "      <td>0.2267</td>\n",
       "      <td>Morgan County-AL</td>\n",
       "    </tr>\n",
       "    <tr>\n",
       "      <th>gbr</th>\n",
       "      <td>Gradient Boosting Regressor</td>\n",
       "      <td>1.8069</td>\n",
       "      <td>5.9234</td>\n",
       "      <td>2.3252</td>\n",
       "      <td>0.9672</td>\n",
       "      <td>0.0246</td>\n",
       "      <td>0.0196</td>\n",
       "      <td>0.0400</td>\n",
       "      <td>Tulsa County-OK</td>\n",
       "    </tr>\n",
       "    <tr>\n",
       "      <th>lr</th>\n",
       "      <td>Linear Regression</td>\n",
       "      <td>18.9813</td>\n",
       "      <td>672.7615</td>\n",
       "      <td>25.2427</td>\n",
       "      <td>0.7624</td>\n",
       "      <td>0.0942</td>\n",
       "      <td>0.0747</td>\n",
       "      <td>0.0067</td>\n",
       "      <td>Hood River County-OR</td>\n",
       "    </tr>\n",
       "    <tr>\n",
       "      <th>omp</th>\n",
       "      <td>Orthogonal Matching Pursuit</td>\n",
       "      <td>27.3163</td>\n",
       "      <td>1564.9580</td>\n",
       "      <td>37.4556</td>\n",
       "      <td>0.0231</td>\n",
       "      <td>0.4271</td>\n",
       "      <td>0.4008</td>\n",
       "      <td>0.0167</td>\n",
       "      <td>Lamar County-MS</td>\n",
       "    </tr>\n",
       "    <tr>\n",
       "      <th>et</th>\n",
       "      <td>Extra Trees Regressor</td>\n",
       "      <td>3.3706</td>\n",
       "      <td>73.4086</td>\n",
       "      <td>6.1989</td>\n",
       "      <td>0.9254</td>\n",
       "      <td>0.0497</td>\n",
       "      <td>0.0296</td>\n",
       "      <td>0.1667</td>\n",
       "      <td>Pasco County-FL</td>\n",
       "    </tr>\n",
       "    <tr>\n",
       "      <th>...</th>\n",
       "      <td>...</td>\n",
       "      <td>...</td>\n",
       "      <td>...</td>\n",
       "      <td>...</td>\n",
       "      <td>...</td>\n",
       "      <td>...</td>\n",
       "      <td>...</td>\n",
       "      <td>...</td>\n",
       "      <td>...</td>\n",
       "    </tr>\n",
       "    <tr>\n",
       "      <th>ada</th>\n",
       "      <td>AdaBoost Regressor</td>\n",
       "      <td>41.0765</td>\n",
       "      <td>2380.7367</td>\n",
       "      <td>41.0765</td>\n",
       "      <td>NaN</td>\n",
       "      <td>0.3824</td>\n",
       "      <td>0.2998</td>\n",
       "      <td>0.0633</td>\n",
       "      <td>Unicoi County-TN</td>\n",
       "    </tr>\n",
       "    <tr>\n",
       "      <th>et</th>\n",
       "      <td>Extra Trees Regressor</td>\n",
       "      <td>19.3259</td>\n",
       "      <td>600.3481</td>\n",
       "      <td>19.3259</td>\n",
       "      <td>NaN</td>\n",
       "      <td>0.4292</td>\n",
       "      <td>0.5966</td>\n",
       "      <td>0.4633</td>\n",
       "      <td>Chester County-TN</td>\n",
       "    </tr>\n",
       "    <tr>\n",
       "      <th>et</th>\n",
       "      <td>Extra Trees Regressor</td>\n",
       "      <td>18.0819</td>\n",
       "      <td>511.2798</td>\n",
       "      <td>18.0819</td>\n",
       "      <td>NaN</td>\n",
       "      <td>0.4397</td>\n",
       "      <td>0.3542</td>\n",
       "      <td>0.4133</td>\n",
       "      <td>Lanier County-GA</td>\n",
       "    </tr>\n",
       "    <tr>\n",
       "      <th>ada</th>\n",
       "      <td>AdaBoost Regressor</td>\n",
       "      <td>4.7259</td>\n",
       "      <td>43.4967</td>\n",
       "      <td>4.7259</td>\n",
       "      <td>NaN</td>\n",
       "      <td>0.0585</td>\n",
       "      <td>0.0563</td>\n",
       "      <td>0.2300</td>\n",
       "      <td>Wayne County-MO</td>\n",
       "    </tr>\n",
       "    <tr>\n",
       "      <th>gbr</th>\n",
       "      <td>Gradient Boosting Regressor</td>\n",
       "      <td>18.0576</td>\n",
       "      <td>838.7457</td>\n",
       "      <td>18.0576</td>\n",
       "      <td>NaN</td>\n",
       "      <td>0.2236</td>\n",
       "      <td>0.3102</td>\n",
       "      <td>0.0633</td>\n",
       "      <td>Monroe County-OH</td>\n",
       "    </tr>\n",
       "  </tbody>\n",
       "</table>\n",
       "<p>1820 rows × 9 columns</p>\n",
       "</div>"
      ],
      "text/plain": [
       "                           Model      MAE        MSE     RMSE      R2   RMSLE  \\\n",
       "rf       Random Forest Regressor   3.6409    20.7104   4.5442  0.8960  0.0581   \n",
       "gbr  Gradient Boosting Regressor   1.8069     5.9234   2.3252  0.9672  0.0246   \n",
       "lr             Linear Regression  18.9813   672.7615  25.2427  0.7624  0.0942   \n",
       "omp  Orthogonal Matching Pursuit  27.3163  1564.9580  37.4556  0.0231  0.4271   \n",
       "et         Extra Trees Regressor   3.3706    73.4086   6.1989  0.9254  0.0497   \n",
       "..                           ...      ...        ...      ...     ...     ...   \n",
       "ada           AdaBoost Regressor  41.0765  2380.7367  41.0765     NaN  0.3824   \n",
       "et         Extra Trees Regressor  19.3259   600.3481  19.3259     NaN  0.4292   \n",
       "et         Extra Trees Regressor  18.0819   511.2798  18.0819     NaN  0.4397   \n",
       "ada           AdaBoost Regressor   4.7259    43.4967   4.7259     NaN  0.0585   \n",
       "gbr  Gradient Boosting Regressor  18.0576   838.7457  18.0576     NaN  0.2236   \n",
       "\n",
       "       MAPE  TT (Sec)          county_state  \n",
       "rf   0.0469    0.2267      Morgan County-AL  \n",
       "gbr  0.0196    0.0400       Tulsa County-OK  \n",
       "lr   0.0747    0.0067  Hood River County-OR  \n",
       "omp  0.4008    0.0167       Lamar County-MS  \n",
       "et   0.0296    0.1667       Pasco County-FL  \n",
       "..      ...       ...                   ...  \n",
       "ada  0.2998    0.0633      Unicoi County-TN  \n",
       "et   0.5966    0.4633     Chester County-TN  \n",
       "et   0.3542    0.4133      Lanier County-GA  \n",
       "ada  0.0563    0.2300       Wayne County-MO  \n",
       "gbr  0.3102    0.0633      Monroe County-OH  \n",
       "\n",
       "[1820 rows x 9 columns]"
      ]
     },
     "execution_count": 75,
     "metadata": {},
     "output_type": "execute_result"
    }
   ],
   "source": [
    "concat_results"
   ]
  },
  {
   "cell_type": "code",
   "execution_count": 74,
   "id": "403e95f2",
   "metadata": {},
   "outputs": [],
   "source": [
    "concat_results.to_csv(\"best_model.csv\")"
   ]
  },
  {
   "cell_type": "code",
   "execution_count": 88,
   "id": "6d2b6d8e",
   "metadata": {},
   "outputs": [],
   "source": [
    "future_dates = pd.date_range(start='2022-01-01', end = '2024-01-01', freq = 'M')"
   ]
  },
  {
   "cell_type": "code",
   "execution_count": 89,
   "id": "a1710f93",
   "metadata": {},
   "outputs": [
    {
     "data": {
      "text/plain": [
       "24"
      ]
     },
     "execution_count": 89,
     "metadata": {},
     "output_type": "execute_result"
    }
   ],
   "source": [
    "len(future_dates)"
   ]
  },
  {
   "cell_type": "code",
   "execution_count": 90,
   "id": "17ff607e",
   "metadata": {},
   "outputs": [],
   "source": [
    "df_future = pd.DataFrame()\n",
    "df_future['date'] = future_dates\n",
    "df_future['month'] = [i.month for i in df_future['date']]\n",
    "df_future['year'] = [i.year for i in df_future['date']]\n"
   ]
  },
  {
   "cell_type": "code",
   "execution_count": 91,
   "id": "9ac57c57",
   "metadata": {},
   "outputs": [
    {
     "data": {
      "text/html": [
       "<div>\n",
       "<style scoped>\n",
       "    .dataframe tbody tr th:only-of-type {\n",
       "        vertical-align: middle;\n",
       "    }\n",
       "\n",
       "    .dataframe tbody tr th {\n",
       "        vertical-align: top;\n",
       "    }\n",
       "\n",
       "    .dataframe thead th {\n",
       "        text-align: right;\n",
       "    }\n",
       "</style>\n",
       "<table border=\"1\" class=\"dataframe\">\n",
       "  <thead>\n",
       "    <tr style=\"text-align: right;\">\n",
       "      <th></th>\n",
       "      <th>date</th>\n",
       "      <th>month</th>\n",
       "      <th>year</th>\n",
       "    </tr>\n",
       "  </thead>\n",
       "  <tbody>\n",
       "    <tr>\n",
       "      <th>0</th>\n",
       "      <td>2022-01-31</td>\n",
       "      <td>1</td>\n",
       "      <td>2022</td>\n",
       "    </tr>\n",
       "    <tr>\n",
       "      <th>1</th>\n",
       "      <td>2022-02-28</td>\n",
       "      <td>2</td>\n",
       "      <td>2022</td>\n",
       "    </tr>\n",
       "    <tr>\n",
       "      <th>2</th>\n",
       "      <td>2022-03-31</td>\n",
       "      <td>3</td>\n",
       "      <td>2022</td>\n",
       "    </tr>\n",
       "    <tr>\n",
       "      <th>3</th>\n",
       "      <td>2022-04-30</td>\n",
       "      <td>4</td>\n",
       "      <td>2022</td>\n",
       "    </tr>\n",
       "    <tr>\n",
       "      <th>4</th>\n",
       "      <td>2022-05-31</td>\n",
       "      <td>5</td>\n",
       "      <td>2022</td>\n",
       "    </tr>\n",
       "  </tbody>\n",
       "</table>\n",
       "</div>"
      ],
      "text/plain": [
       "        date  month  year\n",
       "0 2022-01-31      1  2022\n",
       "1 2022-02-28      2  2022\n",
       "2 2022-03-31      3  2022\n",
       "3 2022-04-30      4  2022\n",
       "4 2022-05-31      5  2022"
      ]
     },
     "execution_count": 91,
     "metadata": {},
     "output_type": "execute_result"
    }
   ],
   "source": [
    "df_future.head()"
   ]
  },
  {
   "cell_type": "code",
   "execution_count": 92,
   "id": "7c45656f",
   "metadata": {},
   "outputs": [],
   "source": [
    "df_predict = []\n",
    "\n",
    "for county in counties:\n",
    "    if os.path.isfile('trained_models/' + str(county) + '.pkl'):\n",
    "        l = load_model('trained_models/' + str(county), verbose=False)\n",
    "        p = predict_model(l, data=df_future)\n",
    "        p['time_series'] = county\n",
    "        df_predict.append(p)\n",
    "    \n"
   ]
  },
  {
   "cell_type": "code",
   "execution_count": 96,
   "id": "919aec76",
   "metadata": {},
   "outputs": [],
   "source": [
    "df_forecast = pd.concat(df_predict, axis=0)"
   ]
  },
  {
   "cell_type": "code",
   "execution_count": 97,
   "id": "e56c5b00",
   "metadata": {},
   "outputs": [
    {
     "data": {
      "text/plain": [
       "(43608, 5)"
      ]
     },
     "execution_count": 97,
     "metadata": {},
     "output_type": "execute_result"
    }
   ],
   "source": [
    "df_forecast.shape"
   ]
  },
  {
   "cell_type": "code",
   "execution_count": 98,
   "id": "7f922fee",
   "metadata": {},
   "outputs": [
    {
     "data": {
      "text/html": [
       "<div>\n",
       "<style scoped>\n",
       "    .dataframe tbody tr th:only-of-type {\n",
       "        vertical-align: middle;\n",
       "    }\n",
       "\n",
       "    .dataframe tbody tr th {\n",
       "        vertical-align: top;\n",
       "    }\n",
       "\n",
       "    .dataframe thead th {\n",
       "        text-align: right;\n",
       "    }\n",
       "</style>\n",
       "<table border=\"1\" class=\"dataframe\">\n",
       "  <thead>\n",
       "    <tr style=\"text-align: right;\">\n",
       "      <th></th>\n",
       "      <th>date</th>\n",
       "      <th>month</th>\n",
       "      <th>year</th>\n",
       "      <th>Label</th>\n",
       "      <th>time_series</th>\n",
       "    </tr>\n",
       "  </thead>\n",
       "  <tbody>\n",
       "    <tr>\n",
       "      <th>0</th>\n",
       "      <td>2022-01-31</td>\n",
       "      <td>1</td>\n",
       "      <td>2022</td>\n",
       "      <td>100.563884</td>\n",
       "      <td>Morgan County-AL</td>\n",
       "    </tr>\n",
       "    <tr>\n",
       "      <th>1</th>\n",
       "      <td>2022-02-28</td>\n",
       "      <td>2</td>\n",
       "      <td>2022</td>\n",
       "      <td>98.752071</td>\n",
       "      <td>Morgan County-AL</td>\n",
       "    </tr>\n",
       "    <tr>\n",
       "      <th>2</th>\n",
       "      <td>2022-03-31</td>\n",
       "      <td>3</td>\n",
       "      <td>2022</td>\n",
       "      <td>99.923069</td>\n",
       "      <td>Morgan County-AL</td>\n",
       "    </tr>\n",
       "    <tr>\n",
       "      <th>3</th>\n",
       "      <td>2022-04-30</td>\n",
       "      <td>4</td>\n",
       "      <td>2022</td>\n",
       "      <td>104.868045</td>\n",
       "      <td>Morgan County-AL</td>\n",
       "    </tr>\n",
       "    <tr>\n",
       "      <th>4</th>\n",
       "      <td>2022-05-31</td>\n",
       "      <td>5</td>\n",
       "      <td>2022</td>\n",
       "      <td>108.512793</td>\n",
       "      <td>Morgan County-AL</td>\n",
       "    </tr>\n",
       "  </tbody>\n",
       "</table>\n",
       "</div>"
      ],
      "text/plain": [
       "        date  month  year       Label       time_series\n",
       "0 2022-01-31      1  2022  100.563884  Morgan County-AL\n",
       "1 2022-02-28      2  2022   98.752071  Morgan County-AL\n",
       "2 2022-03-31      3  2022   99.923069  Morgan County-AL\n",
       "3 2022-04-30      4  2022  104.868045  Morgan County-AL\n",
       "4 2022-05-31      5  2022  108.512793  Morgan County-AL"
      ]
     },
     "execution_count": 98,
     "metadata": {},
     "output_type": "execute_result"
    }
   ],
   "source": [
    "df_forecast.head()"
   ]
  },
  {
   "cell_type": "code",
   "execution_count": 99,
   "id": "095316fb",
   "metadata": {},
   "outputs": [
    {
     "data": {
      "text/html": [
       "<div>\n",
       "<style scoped>\n",
       "    .dataframe tbody tr th:only-of-type {\n",
       "        vertical-align: middle;\n",
       "    }\n",
       "\n",
       "    .dataframe tbody tr th {\n",
       "        vertical-align: top;\n",
       "    }\n",
       "\n",
       "    .dataframe thead th {\n",
       "        text-align: right;\n",
       "    }\n",
       "</style>\n",
       "<table border=\"1\" class=\"dataframe\">\n",
       "  <thead>\n",
       "    <tr style=\"text-align: right;\">\n",
       "      <th></th>\n",
       "      <th>date</th>\n",
       "      <th>month</th>\n",
       "      <th>year</th>\n",
       "      <th>median_ppsf</th>\n",
       "      <th>county</th>\n",
       "      <th>state</th>\n",
       "    </tr>\n",
       "  </thead>\n",
       "  <tbody>\n",
       "    <tr>\n",
       "      <th>0</th>\n",
       "      <td>2022-01-31</td>\n",
       "      <td>1</td>\n",
       "      <td>2022</td>\n",
       "      <td>100.563884</td>\n",
       "      <td>Morgan County</td>\n",
       "      <td>AL</td>\n",
       "    </tr>\n",
       "    <tr>\n",
       "      <th>1</th>\n",
       "      <td>2022-02-28</td>\n",
       "      <td>2</td>\n",
       "      <td>2022</td>\n",
       "      <td>98.752071</td>\n",
       "      <td>Morgan County</td>\n",
       "      <td>AL</td>\n",
       "    </tr>\n",
       "    <tr>\n",
       "      <th>2</th>\n",
       "      <td>2022-03-31</td>\n",
       "      <td>3</td>\n",
       "      <td>2022</td>\n",
       "      <td>99.923069</td>\n",
       "      <td>Morgan County</td>\n",
       "      <td>AL</td>\n",
       "    </tr>\n",
       "    <tr>\n",
       "      <th>3</th>\n",
       "      <td>2022-04-30</td>\n",
       "      <td>4</td>\n",
       "      <td>2022</td>\n",
       "      <td>104.868045</td>\n",
       "      <td>Morgan County</td>\n",
       "      <td>AL</td>\n",
       "    </tr>\n",
       "    <tr>\n",
       "      <th>4</th>\n",
       "      <td>2022-05-31</td>\n",
       "      <td>5</td>\n",
       "      <td>2022</td>\n",
       "      <td>108.512793</td>\n",
       "      <td>Morgan County</td>\n",
       "      <td>AL</td>\n",
       "    </tr>\n",
       "  </tbody>\n",
       "</table>\n",
       "</div>"
      ],
      "text/plain": [
       "        date  month  year  median_ppsf         county state\n",
       "0 2022-01-31      1  2022   100.563884  Morgan County    AL\n",
       "1 2022-02-28      2  2022    98.752071  Morgan County    AL\n",
       "2 2022-03-31      3  2022    99.923069  Morgan County    AL\n",
       "3 2022-04-30      4  2022   104.868045  Morgan County    AL\n",
       "4 2022-05-31      5  2022   108.512793  Morgan County    AL"
      ]
     },
     "execution_count": 99,
     "metadata": {},
     "output_type": "execute_result"
    }
   ],
   "source": [
    "df_forecast[['county', 'state']] = df_forecast['time_series'].str.split('-', 1, expand=True)\n",
    "df_forecast = df_forecast.drop(columns=['time_series'])\n",
    "\n",
    "df_forecast = df_forecast.rename(columns={\"Label\": \"median_ppsf\"})\n",
    "\n",
    "df_forecast.head()"
   ]
  },
  {
   "cell_type": "code",
   "execution_count": 101,
   "id": "d8947730",
   "metadata": {},
   "outputs": [
    {
     "data": {
      "text/html": [
       "<div>\n",
       "<style scoped>\n",
       "    .dataframe tbody tr th:only-of-type {\n",
       "        vertical-align: middle;\n",
       "    }\n",
       "\n",
       "    .dataframe tbody tr th {\n",
       "        vertical-align: top;\n",
       "    }\n",
       "\n",
       "    .dataframe thead th {\n",
       "        text-align: right;\n",
       "    }\n",
       "</style>\n",
       "<table border=\"1\" class=\"dataframe\">\n",
       "  <thead>\n",
       "    <tr style=\"text-align: right;\">\n",
       "      <th></th>\n",
       "      <th>date</th>\n",
       "      <th>month</th>\n",
       "      <th>year</th>\n",
       "      <th>median_ppsf</th>\n",
       "      <th>county</th>\n",
       "      <th>state</th>\n",
       "    </tr>\n",
       "  </thead>\n",
       "  <tbody>\n",
       "    <tr>\n",
       "      <th>0</th>\n",
       "      <td>2022-01-31</td>\n",
       "      <td>1</td>\n",
       "      <td>2022</td>\n",
       "      <td>100.563884</td>\n",
       "      <td>Morgan County</td>\n",
       "      <td>AL</td>\n",
       "    </tr>\n",
       "    <tr>\n",
       "      <th>1</th>\n",
       "      <td>2022-02-28</td>\n",
       "      <td>2</td>\n",
       "      <td>2022</td>\n",
       "      <td>98.752071</td>\n",
       "      <td>Morgan County</td>\n",
       "      <td>AL</td>\n",
       "    </tr>\n",
       "    <tr>\n",
       "      <th>2</th>\n",
       "      <td>2022-03-31</td>\n",
       "      <td>3</td>\n",
       "      <td>2022</td>\n",
       "      <td>99.923069</td>\n",
       "      <td>Morgan County</td>\n",
       "      <td>AL</td>\n",
       "    </tr>\n",
       "    <tr>\n",
       "      <th>3</th>\n",
       "      <td>2022-04-30</td>\n",
       "      <td>4</td>\n",
       "      <td>2022</td>\n",
       "      <td>104.868045</td>\n",
       "      <td>Morgan County</td>\n",
       "      <td>AL</td>\n",
       "    </tr>\n",
       "    <tr>\n",
       "      <th>4</th>\n",
       "      <td>2022-05-31</td>\n",
       "      <td>5</td>\n",
       "      <td>2022</td>\n",
       "      <td>108.512793</td>\n",
       "      <td>Morgan County</td>\n",
       "      <td>AL</td>\n",
       "    </tr>\n",
       "    <tr>\n",
       "      <th>...</th>\n",
       "      <td>...</td>\n",
       "      <td>...</td>\n",
       "      <td>...</td>\n",
       "      <td>...</td>\n",
       "      <td>...</td>\n",
       "      <td>...</td>\n",
       "    </tr>\n",
       "    <tr>\n",
       "      <th>19</th>\n",
       "      <td>2023-08-31</td>\n",
       "      <td>8</td>\n",
       "      <td>2023</td>\n",
       "      <td>111.425594</td>\n",
       "      <td>Monroe County</td>\n",
       "      <td>OH</td>\n",
       "    </tr>\n",
       "    <tr>\n",
       "      <th>20</th>\n",
       "      <td>2023-09-30</td>\n",
       "      <td>9</td>\n",
       "      <td>2023</td>\n",
       "      <td>80.487974</td>\n",
       "      <td>Monroe County</td>\n",
       "      <td>OH</td>\n",
       "    </tr>\n",
       "    <tr>\n",
       "      <th>21</th>\n",
       "      <td>2023-10-31</td>\n",
       "      <td>10</td>\n",
       "      <td>2023</td>\n",
       "      <td>106.644334</td>\n",
       "      <td>Monroe County</td>\n",
       "      <td>OH</td>\n",
       "    </tr>\n",
       "    <tr>\n",
       "      <th>22</th>\n",
       "      <td>2023-11-30</td>\n",
       "      <td>11</td>\n",
       "      <td>2023</td>\n",
       "      <td>56.714675</td>\n",
       "      <td>Monroe County</td>\n",
       "      <td>OH</td>\n",
       "    </tr>\n",
       "    <tr>\n",
       "      <th>23</th>\n",
       "      <td>2023-12-31</td>\n",
       "      <td>12</td>\n",
       "      <td>2023</td>\n",
       "      <td>105.271315</td>\n",
       "      <td>Monroe County</td>\n",
       "      <td>OH</td>\n",
       "    </tr>\n",
       "  </tbody>\n",
       "</table>\n",
       "<p>43608 rows × 6 columns</p>\n",
       "</div>"
      ],
      "text/plain": [
       "         date  month  year  median_ppsf         county state\n",
       "0  2022-01-31      1  2022   100.563884  Morgan County    AL\n",
       "1  2022-02-28      2  2022    98.752071  Morgan County    AL\n",
       "2  2022-03-31      3  2022    99.923069  Morgan County    AL\n",
       "3  2022-04-30      4  2022   104.868045  Morgan County    AL\n",
       "4  2022-05-31      5  2022   108.512793  Morgan County    AL\n",
       "..        ...    ...   ...          ...            ...   ...\n",
       "19 2023-08-31      8  2023   111.425594  Monroe County    OH\n",
       "20 2023-09-30      9  2023    80.487974  Monroe County    OH\n",
       "21 2023-10-31     10  2023   106.644334  Monroe County    OH\n",
       "22 2023-11-30     11  2023    56.714675  Monroe County    OH\n",
       "23 2023-12-31     12  2023   105.271315  Monroe County    OH\n",
       "\n",
       "[43608 rows x 6 columns]"
      ]
     },
     "execution_count": 101,
     "metadata": {},
     "output_type": "execute_result"
    }
   ],
   "source": [
    "df_forecast"
   ]
  },
  {
   "cell_type": "code",
   "execution_count": 105,
   "id": "a525456a",
   "metadata": {},
   "outputs": [],
   "source": [
    "df_forecast.to_csv(\"ppsf_forecast.csv\", index = False)"
   ]
  },
  {
   "cell_type": "code",
   "execution_count": null,
   "id": "8c66e3bf",
   "metadata": {},
   "outputs": [],
   "source": []
  }
 ],
 "metadata": {
  "kernelspec": {
   "display_name": "Python 3 (ipykernel)",
   "language": "python",
   "name": "python3"
  },
  "language_info": {
   "codemirror_mode": {
    "name": "ipython",
    "version": 3
   },
   "file_extension": ".py",
   "mimetype": "text/x-python",
   "name": "python",
   "nbconvert_exporter": "python",
   "pygments_lexer": "ipython3",
   "version": "3.8.12"
  }
 },
 "nbformat": 4,
 "nbformat_minor": 5
}
